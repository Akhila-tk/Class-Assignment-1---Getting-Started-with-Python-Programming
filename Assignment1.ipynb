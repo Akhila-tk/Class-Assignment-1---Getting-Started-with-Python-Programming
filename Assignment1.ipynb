{
  "nbformat": 4,
  "nbformat_minor": 0,
  "metadata": {
    "colab": {
      "name": "Assignment1.ipynb",
      "provenance": [],
      "authorship_tag": "ABX9TyMR/ya7TcpHIjSxe2yxx9fl",
      "include_colab_link": true
    },
    "kernelspec": {
      "name": "python3",
      "display_name": "Python 3"
    }
  },
  "cells": [
    {
      "cell_type": "markdown",
      "metadata": {
        "id": "view-in-github",
        "colab_type": "text"
      },
      "source": [
        "<a href=\"https://colab.research.google.com/github/Akhila-tk/Class-Assignment-1---Getting-Started-with-Python-Programming/blob/master/Assignment1.ipynb\" target=\"_parent\"><img src=\"https://colab.research.google.com/assets/colab-badge.svg\" alt=\"Open In Colab\"/></a>"
      ]
    },
    {
      "cell_type": "code",
      "metadata": {
        "id": "FJO5Oale-T5-",
        "colab_type": "code",
        "colab": {}
      },
      "source": [
        ""
      ],
      "execution_count": null,
      "outputs": []
    },
    {
      "cell_type": "markdown",
      "metadata": {
        "id": "nZQAqKgJ-dz3",
        "colab_type": "text"
      },
      "source": [
        "Question no.2"
      ]
    },
    {
      "cell_type": "code",
      "metadata": {
        "id": "B-m9IUM--hZn",
        "colab_type": "code",
        "colab": {
          "base_uri": "https://localhost:8080/",
          "height": 91
        },
        "outputId": "7b3df218-9b7e-4286-d0c9-6e6ba011a374"
      },
      "source": [
        " Name =\"Akhila T K\"\n",
        "Address=\"Thekkilparamba,Kasaragod\"\n",
        "Telephone_no =\"3513426790\"\n",
        "print(\"Name:\"+Name+\"\\n\",\"Address:\"+Address+\"\\n\", \"Telephone no:\"+Telephone_no)"
      ],
      "execution_count": null,
      "outputs": [
        {
          "output_type": "stream",
          "text": [
            "Name:Akhila T K\n",
            " Address:Thekkilparamba,Kasaragod\n",
            " Telephone no:3513426790\n"
          ],
          "name": "stdout"
        }
      ]
    },
    {
      "cell_type": "markdown",
      "metadata": {
        "id": "CspWhpEo_ot2",
        "colab_type": "text"
      },
      "source": [
        "Question no.3"
      ]
    },
    {
      "cell_type": "code",
      "metadata": {
        "id": "WM6slAbnAHDz",
        "colab_type": "code",
        "colab": {
          "base_uri": "https://localhost:8080/",
          "height": 35
        },
        "outputId": "9e250782-5eeb-4a2c-cb74-9b8cc6f2fe2e"
      },
      "source": [
        " print(\"your Name is\" ,Name) \n",
        "Name=\"Akhila T K\""
      ],
      "execution_count": 4,
      "outputs": [
        {
          "output_type": "stream",
          "text": [
            "your Name is Akhila T K\n"
          ],
          "name": "stdout"
        }
      ]
    },
    {
      "cell_type": "markdown",
      "metadata": {
        "id": "kPi-41UwAU0k",
        "colab_type": "text"
      },
      "source": [
        "Question no.4"
      ]
    },
    {
      "cell_type": "code",
      "metadata": {
        "id": "MYsFI5YFAXcF",
        "colab_type": "code",
        "colab": {
          "base_uri": "https://localhost:8080/",
          "height": 71
        },
        "outputId": "7f637427-7555-45a5-8046-0e79245d0507"
      },
      "source": [
        " Width = int(input(\"Enter the Width: \"))\n",
        "Height = int(input(\"Enter the Height: \"))\n",
        "area = Width * Height\n",
        "print(\"The area is\",area, \"Square units\")"
      ],
      "execution_count": 5,
      "outputs": [
        {
          "output_type": "stream",
          "text": [
            "Enter the Width: 5\n",
            "Enter the Height: 3\n",
            "The area is 15 Square units\n"
          ],
          "name": "stdout"
        }
      ]
    },
    {
      "cell_type": "markdown",
      "metadata": {
        "id": "MHS8YbbgAmhT",
        "colab_type": "text"
      },
      "source": [
        "Question no.5"
      ]
    },
    {
      "cell_type": "code",
      "metadata": {
        "id": "kkPiRnloAqK8",
        "colab_type": "code",
        "colab": {
          "base_uri": "https://localhost:8080/",
          "height": 71
        },
        "outputId": "52f57623-93c1-4d20-b60c-4ce940ee6e93"
      },
      "source": [
        " Base = int(input(\"Enter the Base:\"))\n",
        "Height = int(input(\"Enter the Height:\"))\n",
        "area = .5*Base*Height\n",
        "print(\"The area is\", area, \"Square units\")"
      ],
      "execution_count": 6,
      "outputs": [
        {
          "output_type": "stream",
          "text": [
            "Enter the Base:5\n",
            "Enter the Height:8\n",
            "The area is 20.0 Square units\n"
          ],
          "name": "stdout"
        }
      ]
    },
    {
      "cell_type": "markdown",
      "metadata": {
        "id": "vyxG-bsaA5Gf",
        "colab_type": "text"
      },
      "source": [
        "Question no.6"
      ]
    },
    {
      "cell_type": "code",
      "metadata": {
        "id": "Y28S7cQfA7bM",
        "colab_type": "code",
        "colab": {
          "base_uri": "https://localhost:8080/",
          "height": 53
        },
        "outputId": "2a37b088-0375-47ee-e842-e7dc41a3c423"
      },
      "source": [
        " Radius = int(input(\"Enter the Radius:\"))\n",
        "area = 3.14*Radius**2\n",
        "print(\"The area is\", area, \"Square units\")"
      ],
      "execution_count": 7,
      "outputs": [
        {
          "output_type": "stream",
          "text": [
            "Enter the Radius:6\n",
            "The area is 113.04 Square units\n"
          ],
          "name": "stdout"
        }
      ]
    },
    {
      "cell_type": "markdown",
      "metadata": {
        "id": "veYWkKibBJWS",
        "colab_type": "text"
      },
      "source": [
        "Question no.7"
      ]
    },
    {
      "cell_type": "code",
      "metadata": {
        "id": "-XsdPZFRBMQV",
        "colab_type": "code",
        "colab": {
          "base_uri": "https://localhost:8080/",
          "height": 91
        },
        "outputId": "018b5f6e-15bc-4a63-b79c-5981a0f7326f"
      },
      "source": [
        " Name = input(\"Enter your Name:\")\n",
        "Age = input(\"Enter your Age:\")\n",
        "print(\"My name is \"+Name+\" and my age is \"+Age)"
      ],
      "execution_count": 9,
      "outputs": [
        {
          "output_type": "stream",
          "text": [
            "Enter your Name:Akhila T K\n",
            "Enter your Age:18\n",
            "My name is Akhila T K and my age is 18\n"
          ],
          "name": "stdout"
        }
      ]
    },
    {
      "cell_type": "markdown",
      "metadata": {
        "id": "KNcBv0XBBycW",
        "colab_type": "text"
      },
      "source": [
        "Question no.8"
      ]
    },
    {
      "cell_type": "code",
      "metadata": {
        "id": "gaL6u43KB116",
        "colab_type": "code",
        "colab": {
          "base_uri": "https://localhost:8080/",
          "height": 53
        },
        "outputId": "177d3315-8ca9-4a9b-83a2-cdcf4f62c1b8"
      },
      "source": [
        " x = int(input(\"Enter a number:\"))\n",
        "x = x+1\n",
        "print(x)"
      ],
      "execution_count": 10,
      "outputs": [
        {
          "output_type": "stream",
          "text": [
            "Enter a number:8\n",
            "9\n"
          ],
          "name": "stdout"
        }
      ]
    },
    {
      "cell_type": "markdown",
      "metadata": {
        "id": "X5N2oLdkB_dT",
        "colab_type": "text"
      },
      "source": [
        "Question no.9"
      ]
    },
    {
      "cell_type": "code",
      "metadata": {
        "id": "DqxgCWRtCCdm",
        "colab_type": "code",
        "colab": {
          "base_uri": "https://localhost:8080/",
          "height": 53
        },
        "outputId": "430a12cf-55d9-4b61-dd34-e8ca3bfa6fc2"
      },
      "source": [
        " Name = input(\"Enter your first Name:\")\n",
        "print(Name)"
      ],
      "execution_count": 11,
      "outputs": [
        {
          "output_type": "stream",
          "text": [
            "Enter your first Name:Akhila\n",
            "Akhila\n"
          ],
          "name": "stdout"
        }
      ]
    },
    {
      "cell_type": "markdown",
      "metadata": {
        "id": "Odw_HnDSCP6n",
        "colab_type": "text"
      },
      "source": [
        ""
      ]
    },
    {
      "cell_type": "code",
      "metadata": {
        "id": "VdcOv59xCQck",
        "colab_type": "code",
        "colab": {
          "base_uri": "https://localhost:8080/",
          "height": 54
        },
        "outputId": "bc28f4df-5d9c-4c25-e647-2f1556211fdc"
      },
      "source": [
        " input(\"Enter your first name:\")"
      ],
      "execution_count": 12,
      "outputs": [
        {
          "output_type": "stream",
          "text": [
            "Enter your first name:Akhila\n"
          ],
          "name": "stdout"
        },
        {
          "output_type": "execute_result",
          "data": {
            "application/vnd.google.colaboratory.intrinsic+json": {
              "type": "string"
            },
            "text/plain": [
              "'Akhila'"
            ]
          },
          "metadata": {
            "tags": []
          },
          "execution_count": 12
        }
      ]
    }
  ]
}